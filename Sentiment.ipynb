{
  "nbformat": 4,
  "nbformat_minor": 0,
  "metadata": {
    "colab": {
      "provenance": [],
      "include_colab_link": true
    },
    "kernelspec": {
      "name": "python3",
      "display_name": "Python 3"
    },
    "language_info": {
      "name": "python"
    }
  },
  "cells": [
    {
      "cell_type": "markdown",
      "metadata": {
        "id": "view-in-github",
        "colab_type": "text"
      },
      "source": [
        "<a href=\"https://colab.research.google.com/github/yarevaloss/githubtest/blob/main/Sentiment.ipynb\" target=\"_parent\"><img src=\"https://colab.research.google.com/assets/colab-badge.svg\" alt=\"Open In Colab\"/></a>"
      ]
    },
    {
      "cell_type": "markdown",
      "source": [],
      "metadata": {
        "id": "6rK2YJibGfKU"
      }
    },
    {
      "cell_type": "code",
      "execution_count": null,
      "metadata": {
        "id": "pNcc5rpt3zB0"
      },
      "outputs": [],
      "source": [
        "from textblob import TextBlob\n"
      ]
    },
    {
      "cell_type": "code",
      "source": [
        "\n",
        "\n",
        "\n",
        "text = '''\n",
        "You'll do great today.\n",
        "'''\n",
        "\n",
        "\n",
        "blob = TextBlob(text)\n",
        "sentiment = blob.sentiment\n",
        "\n",
        "\n",
        "print(f\"Sentiment: {sentiment}\")\n"
      ],
      "metadata": {
        "colab": {
          "base_uri": "https://localhost:8080/"
        },
        "id": "jRX8wmny5XTG",
        "outputId": "5545ab88-1eed-42cb-b740-660128e92191"
      },
      "execution_count": null,
      "outputs": [
        {
          "output_type": "stream",
          "name": "stdout",
          "text": [
            "Sentiment: Sentiment(polarity=0.8, subjectivity=0.75)\n"
          ]
        }
      ]
    },
    {
      "cell_type": "code",
      "source": [
        "if sentiment.polarity > 0:\n",
        "   print(\"Positive\")\n",
        "elif sentiment.polarity < 0:\n",
        "    print(\"Negative\")\n",
        "else:\n",
        "    print(\"Neutral\")\n",
        "\n"
      ],
      "metadata": {
        "id": "_MqOEdBvCmTm",
        "colab": {
          "base_uri": "https://localhost:8080/"
        },
        "outputId": "9ffab9d9-4870-4d94-b247-e3fcdbd69867"
      },
      "execution_count": null,
      "outputs": [
        {
          "output_type": "stream",
          "name": "stdout",
          "text": [
            "Positive\n"
          ]
        }
      ]
    }
  ]
}